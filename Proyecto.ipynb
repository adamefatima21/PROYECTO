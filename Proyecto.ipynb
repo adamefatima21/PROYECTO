{
  "nbformat": 4,
  "nbformat_minor": 0,
  "metadata": {
    "colab": {
      "provenance": [],
      "authorship_tag": "ABX9TyO/b+ivKh3KDrriTr5Iprd9",
      "include_colab_link": true
    },
    "kernelspec": {
      "name": "python3",
      "display_name": "Python 3"
    },
    "language_info": {
      "name": "python"
    }
  },
  "cells": [
    {
      "cell_type": "markdown",
      "metadata": {
        "id": "view-in-github",
        "colab_type": "text"
      },
      "source": [
        "<a href=\"https://colab.research.google.com/github/adamefatima21/PROYECTO/blob/main/Proyecto.ipynb\" target=\"_parent\"><img src=\"https://colab.research.google.com/assets/colab-badge.svg\" alt=\"Open In Colab\"/></a>"
      ]
    },
    {
      "cell_type": "code",
      "source": [
        "\"\"\"Operaciones básicas en Python con\n",
        "menú de opciones utilizando funciones\"\"\"\n",
        "\n",
        "# Funciones\n",
        "def S(a, b):\n",
        "  return a + b\n",
        "\n",
        "def M(a, b):\n",
        "  return a * b\n",
        "\n",
        "def D(a, b):\n",
        "  return a / b\n",
        "\n",
        "def R(a, b):\n",
        "  return a - b\n",
        "\n",
        "# MENU\n",
        "while True:\n",
        "  print(\"*** Menú principal ***\")\n",
        "  print(\"1. Sumar\")\n",
        "  print(\"2. Restar\")\n",
        "  print(\"3. Multiplicar\")\n",
        "  print(\"4. Dividir\")\n",
        "  print(\"5. SALIR\")\n",
        "  opc = input(\"Ingrese una opción: \")\n",
        "  n1 = float(input(\"Número 1: \"))\n",
        "  n2 = float(input(\"Número 2: \"))\n",
        "\n",
        "  if opc==\"1\":\n",
        "    print(\"La suma es: \",S(n1, n2))\n",
        "  elif opc==\"2\":\n",
        "    print(\"La resta es: \",R(n1, n2))\n",
        "  elif opc==\"3\":\n",
        "    print(\"La multiplicacion es: \",M(n1, n2))\n",
        "  elif opc==\"4\":\n",
        "    print(\"La división es: \",D(n1,n2))\n",
        " # coloca dos ceros en los dos números que te pide y termina\n",
        " # el código:)\n",
        "  elif opc==\"5\":\n",
        "    print(\"MUCHAS GRACIAS POR INTERACTURA:)\")\n",
        "    break\n",
        "\n",
        "  else:\n",
        "    print(\"OPCIÓN INVALIDA\")"
      ],
      "metadata": {
        "colab": {
          "base_uri": "https://localhost:8080/"
        },
        "id": "81w1WJsGOwcC",
        "outputId": "7e40d906-c1e0-4adf-fd80-9f436489426c"
      },
      "execution_count": 21,
      "outputs": [
        {
          "output_type": "stream",
          "name": "stdout",
          "text": [
            "*** Menú principal ***\n",
            "1. Sumar\n",
            "2. Restar\n",
            "3. Multiplicar\n",
            "4. Dividir\n",
            "5. SALIR\n",
            "Ingrese una opción: 1\n",
            "Número 1: 23\n",
            "Número 2: 56\n",
            "La suma es:  79.0\n",
            "*** Menú principal ***\n",
            "1. Sumar\n",
            "2. Restar\n",
            "3. Multiplicar\n",
            "4. Dividir\n",
            "5. SALIR\n",
            "Ingrese una opción: 2\n",
            "Número 1: 48\n",
            "Número 2: 34\n",
            "La resta es:  14.0\n",
            "*** Menú principal ***\n",
            "1. Sumar\n",
            "2. Restar\n",
            "3. Multiplicar\n",
            "4. Dividir\n",
            "5. SALIR\n",
            "Ingrese una opción: 3\n",
            "Número 1: 25\n",
            "Número 2: 9\n",
            "La multiplicacion es:  225.0\n",
            "*** Menú principal ***\n",
            "1. Sumar\n",
            "2. Restar\n",
            "3. Multiplicar\n",
            "4. Dividir\n",
            "5. SALIR\n",
            "Ingrese una opción: 4\n",
            "Número 1: 357\n",
            "Número 2: 16\n",
            "La división es:  22.3125\n",
            "*** Menú principal ***\n",
            "1. Sumar\n",
            "2. Restar\n",
            "3. Multiplicar\n",
            "4. Dividir\n",
            "5. SALIR\n",
            "Ingrese una opción: 5\n",
            "Número 1: 0\n",
            "Número 2: 0\n",
            "MUCHAS GRACIAS POR INTERACTURA:)\n"
          ]
        }
      ]
    }
  ]
}